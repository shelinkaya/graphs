import numpy as np
import matplotlib.pyplot as plt

# Updated dataset
data = {
    '2021': {'Yurtiçi': 498155463.8, 'Yurtdışı': 94251198.97},
    '2022': {'Yurtiçi': 1178567742.94, 'Yurtdışı': 261226606.99},
    '2023 (Tahmini)': {'Yurtiçi': 1760000000, 'Yurtdışı': 440000000}
}

percentages = {
    '2021': {'Yurtiçi': 84.09, 'Yurtdışı': 15.91},
    '2022': {'Yurtiçi': 81.86, 'Yurtdışı': 18.14},
    '2023 (Tahmini)': {'Yurtiçi': 80, 'Yurtdışı': 20}
}

years = list(data.keys())
yurtici_values = [item['Yurtiçi'] for item in data.values()]
yurtdisi_values = [item['Yurtdışı'] for item in data.values()]
toplam_values = [yurtici + yurtdisi for yurtici, yurtdisi in zip(yurtici_values, yurtdisi_values)]

bar_width = 0.3
index = np.arange(len(years))

fig, ax = plt.subplots(figsize=(12, 8))

# Creating the bar plots
yurtdisi_bars = ax.bar(index, yurtdisi_values, bar_width, label='Yurtdışı', color='#8B2323')  # İkinci renk: #8B2323
yurtici_bars = ax.bar(index + bar_width, yurtici_values, bar_width, label='Yurtiçi', color='#00008B')  # İlk renk: #00008B
toplam_bars = ax.bar(index + 2*bar_width, toplam_values, bar_width, label='Toplam', color='gray')  # Üçüncü renk: gray

ax.set_xlabel("Yıllar")
ax.set_ylabel("Ciro (TL)")
ax.set_title("Yıllara Göre Ciro Tahmini", pad=20)
ax.set_xticks(index + bar_width)
ax.set_xticklabels(years)
ax.legend()

# Adding values on top of the bars
for i, (yurtici_value, yurtdisi_value, toplam_value) in enumerate(zip(yurtici_values, yurtdisi_values, toplam_values)):
    ax.text(i, yurtdisi_value + 50000000, f"{yurtdisi_value:,} TL\n{percentages[years[i]]['Yurtdışı']:.2f}%", ha='center', color='black', fontsize=8, va='bottom')
    if yurtici_value > 0:  # 2024 yılının yurtiçi değeri olduğunda
        ax.text(i + bar_width, yurtici_value + 50000000, f"{yurtici_value:,} TL\n{percentages[years[i]]['Yurtiçi']:.2f}%", ha='center', color='black', fontsize=8, va='bottom')
    ax.text(i + 2*bar_width, toplam_value + 50000000, f"{toplam_value:,} TL", ha='center', color='black', fontsize=8, va='bottom')

plt.tight_layout()
plt.show()
