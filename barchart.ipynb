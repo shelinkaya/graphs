
import numpy as np
import matplotlib.pyplot as plt

 
  
# creating the dataset
data = {'2021':592406662, '2022':1439794349, '2023 (Tahmini)':2200000000,
        '2024 (Tahmini)':3100000000}
years = list(data.keys())
values = list(data.values())
  
fig = plt.figure(figsize = (10, 5))
 
# creating the bar plot
plt.bar(years, values, color ='#00008B',
        width = 0.4)
 
plt.xlabel("Yıllar")
plt.ylabel("Ciro")
#plt.tick_params(left = False, right= False)

plt.title("Yıllara Göre Ciro Tahmini")
#plt.tick_params(left = False, right = False , labelleft = False ,
#                labelbottom = False, bottom = False)
#plt.set(ylabels=[])
#plt.tick_params(labelleft= False)
plt.plot()
plt.show()
