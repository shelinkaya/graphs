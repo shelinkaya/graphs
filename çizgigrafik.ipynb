import matplotlib.pyplot as plt

# Verileri oluşturma
labels = ['RW0', 'RW10', 'RW20', 'RW30', 'RW40', 'RW50']
basinc_7gun = [46.77, 43.4, 35.52, 30.45, 23.57, 17.01]
basinc_28gun = [56.69, 52.96, 42.4, 41.47, 34.05, 26.72]

# Grafik oluşturma
plt.figure(figsize=(10, 6))

plt.plot(labels, basinc_7gun, marker='o', linestyle='-', color='blue', label='7 Günlük Basınç Dayanımı')
plt.plot(labels, basinc_28gun, marker='s', linestyle='--', color='red', label='28 Günlük Basınç Dayanımı')

# Eksen ve başlık ayarları
plt.xlabel('Numune')
plt.ylabel('Basınç Dayanımı (MPa)')
plt.title('7 ve 28 Günlük Basınç Dayanımı Sonuçları')
plt.xticks(rotation=45)
plt.legend()

# Grafiği gösterme
plt.grid(True)
plt.tight_layout()
plt.show()
